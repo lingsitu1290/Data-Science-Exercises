{
 "cells": [
  {
   "cell_type": "code",
   "execution_count": 1,
   "metadata": {
    "collapsed": false
   },
   "outputs": [
    {
     "name": "stdout",
     "output_type": "stream",
     "text": [
      "       rainy  sunny\n",
      "rainy    0.4    0.6\n",
      "sunny    0.7    0.3\n"
     ]
    }
   ],
   "source": [
    "import pandas as pd\n",
    "df = pd.DataFrame({'rainy': [.4, .7], \n",
    "                   'sunny': [.6, .3]\n",
    "                  }, \n",
    "                  index=[\"rainy\", \"sunny\"])\n",
    "print df"
   ]
  },
  {
   "cell_type": "code",
   "execution_count": 2,
   "metadata": {
    "collapsed": false
   },
   "outputs": [
    {
     "name": "stdout",
     "output_type": "stream",
     "text": [
      "       rainy  sunny\n",
      "rainy   0.58   0.42\n",
      "sunny   0.49   0.51\n"
     ]
    }
   ],
   "source": [
    "print df.dot(df)"
   ]
  },
  {
   "cell_type": "code",
   "execution_count": 5,
   "metadata": {
    "collapsed": false
   },
   "outputs": [],
   "source": [
    "df1 = pd.DataFrame({'bull_market': [0.9, 0.075,0.025],\n",
    "                   'bear_market': [0.15, 0.8, 0.05],\n",
    "                   'stag_market': [0.25, 0.25, 0.5]\n",
    "                   },\n",
    "                  index=['bull_market','bear_market','stag_market'])"
   ]
  },
  {
   "cell_type": "code",
   "execution_count": 6,
   "metadata": {
    "collapsed": false
   },
   "outputs": [
    {
     "data": {
      "text/html": [
       "<div>\n",
       "<table border=\"1\" class=\"dataframe\">\n",
       "  <thead>\n",
       "    <tr style=\"text-align: right;\">\n",
       "      <th></th>\n",
       "      <th>bear_market</th>\n",
       "      <th>bull_market</th>\n",
       "      <th>stag_market</th>\n",
       "    </tr>\n",
       "  </thead>\n",
       "  <tbody>\n",
       "    <tr>\n",
       "      <th>bull_market</th>\n",
       "      <td>0.15</td>\n",
       "      <td>0.900</td>\n",
       "      <td>0.25</td>\n",
       "    </tr>\n",
       "    <tr>\n",
       "      <th>bear_market</th>\n",
       "      <td>0.80</td>\n",
       "      <td>0.075</td>\n",
       "      <td>0.25</td>\n",
       "    </tr>\n",
       "    <tr>\n",
       "      <th>stag_market</th>\n",
       "      <td>0.05</td>\n",
       "      <td>0.025</td>\n",
       "      <td>0.50</td>\n",
       "    </tr>\n",
       "  </tbody>\n",
       "</table>\n",
       "</div>"
      ],
      "text/plain": [
       "             bear_market  bull_market  stag_market\n",
       "bull_market         0.15        0.900         0.25\n",
       "bear_market         0.80        0.075         0.25\n",
       "stag_market         0.05        0.025         0.50"
      ]
     },
     "execution_count": 6,
     "metadata": {},
     "output_type": "execute_result"
    }
   ],
   "source": [
    "df1"
   ]
  },
  {
   "cell_type": "code",
   "execution_count": 7,
   "metadata": {
    "collapsed": false
   },
   "outputs": [
    {
     "name": "stdout",
     "output_type": "stream",
     "text": [
      "             bear_market  bull_market  stag_market\n",
      "bull_market      0.26750      0.82750      0.38750\n",
      "bear_market      0.66375      0.13375      0.34375\n",
      "stag_market      0.06875      0.03875      0.26875\n"
     ]
    }
   ],
   "source": [
    "#after two transitions\n",
    "print df1.dot(df1)"
   ]
  },
  {
   "cell_type": "code",
   "execution_count": null,
   "metadata": {
    "collapsed": true
   },
   "outputs": [],
   "source": [
    "#how to find only after one transition? After 5 transitions? \n",
    "#how would raise to the nth power using matrix multiplication and .dot?"
   ]
  }
 ],
 "metadata": {
  "kernelspec": {
   "display_name": "Python 2",
   "language": "python",
   "name": "python2"
  },
  "language_info": {
   "codemirror_mode": {
    "name": "ipython",
    "version": 2
   },
   "file_extension": ".py",
   "mimetype": "text/x-python",
   "name": "python",
   "nbconvert_exporter": "python",
   "pygments_lexer": "ipython2",
   "version": "2.7.10"
  }
 },
 "nbformat": 4,
 "nbformat_minor": 0
}
